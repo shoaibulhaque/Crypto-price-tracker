{
 "cells": [
  {
   "cell_type": "markdown",
   "metadata": {},
   "source": [
    "## First, run this cell, then run the main function scroll down to see it."
   ]
  },
  {
   "cell_type": "code",
   "execution_count": null,
   "metadata": {
    "collapsed": false,
    "jupyter": {
     "outputs_hidden": false
    }
   },
   "outputs": [],
   "source": [
    "# First run this cell to import \n",
    "import pandas as pd # pandas\n",
    "import numpy as np  # numpy\n",
    "import plotly.graph_objects as go # plotly\n",
    "from plotly.offline import plot   \n",
    "import matplotlib.pyplot as plt   # matplotlib\n",
    "import datetime \n",
    "from pycoingecko import CoinGeckoAPI # API\n",
    "from mplfinance.original_flavor import candlestick2_ohlc\n",
    "    "
   ]
  },
  {
   "cell_type": "code",
   "execution_count": null,
   "metadata": {
    "collapsed": false,
    "jupyter": {
     "outputs_hidden": false
    }
   },
   "outputs": [],
   "source": [
    "# Installing \n",
    "def check_requirements():\n",
    "    print(\"\\nChecking requirements ..... Wait !\")\n",
    "    # !pip install pycoingecko  \n",
    "    # !pip install plotly\n",
    "    # !pip install mplfinance\n",
    "    # !pip install --upgrade nbformat\n",
    "    return True\n"
   ]
  },
  {
   "cell_type": "markdown",
   "metadata": {},
   "source": [
    "<h2 id=\"ref1\">REST APIs</h2>\n"
   ]
  },
  {
   "cell_type": "markdown",
   "metadata": {},
   "source": [
    "Rest API’s function by sending a request,  the request is communicated via HTTP message. The HTTP message usually contains a JSON file. This contains instructions for what operation we would like the service or resource to perform. In a similar manner, API returns a response, via an HTTP message, this response is usually contained within a JSON.\n",
    "\n",
    "In cryptocurrency a popular method to display the movements of the price of a currency.\n",
    "\n",
    "![Example Candlestick Graph](https://cf-courses-data.s3.us.cloud-object-storage.appdomain.cloud/IBMDeveloperSkillsNetwork-PY0101EN-SkillsNetwork/labs/Module%205/candlestick.png)\n",
    "\n",
    "Here is a description of the candle sticks.\n",
    "\n",
    "<img src=\"https://cf-courses-data.s3.us.cloud-object-storage.appdomain.cloud/IBMDeveloperSkillsNetwork-PY0101EN-SkillsNetwork/labs/Module%205/explanation.png\" alt=\"Candle Stick Definition\" width=\"800\" height=\"600\">\n",
    "\n",
    "In this, we will be using the to create one of these candlestick graphs for Bitcoin. We will use the API to get the price data for 30 days with 24 observation per day, 1 per hour. We will find the max, min, open, and close price per day meaning we will have 30 candlesticks and use that to generate the candlestick graph. Although we are using the CoinGecko API we will use a Python client/wrapper for the API called <a href=https://github.com/man-c/pycoingecko>PyCoinGecko</a>. PyCoinGecko will make performing the requests easy and it will deal with the enpoint targeting.\n"
   ]
  },
  {
   "cell_type": "code",
   "execution_count": null,
   "metadata": {},
   "outputs": [],
   "source": [
    "# cg = CoinGeckoAPI()\n",
    "\n",
    "# bitcoin_data = cg.get_coin_market_chart_by_id(id='bitcoin', vs_currency='usd', days=30)\n",
    "def start(coin_inp:str, currency:str, days_inp:int):\n",
    "    cg = CoinGeckoAPI()\n",
    "    bitcoin_data = cg.get_coin_market_chart_by_id(id = coin_inp, vs_currency = currency, days = days_inp)\n",
    "    filter(bitcoin_data,coin_inp)"
   ]
  },
  {
   "cell_type": "markdown",
   "metadata": {},
   "source": [
    "The response we get is in the form of a JSON which includes the price, market caps, and total volumes along with timestamps for each observation. We are focused on the prices so we will select that data.\n"
   ]
  },
  {
   "cell_type": "code",
   "execution_count": null,
   "metadata": {},
   "outputs": [],
   "source": [
    "# bitcoin_price_data = bitcoin_data['prices']\n",
    "\n",
    "# bitcoin_price_data[0:5]\n",
    "def filter(bitcoin_data,coin_inp):\n",
    "    bitcoin_price_data = bitcoin_data['prices']\n",
    "    # bitcoin_price_data[0:5]\n",
    "    con_to_dataframe(bitcoin_price_data, coin_inp)"
   ]
  },
  {
   "cell_type": "markdown",
   "metadata": {},
   "source": [
    "Finally lets turn this data into a Pandas DataFrame.\n"
   ]
  },
  {
   "cell_type": "code",
   "execution_count": null,
   "metadata": {},
   "outputs": [],
   "source": [
    "def con_to_dataframe(bitcoin_price_data, coin_inp):\n",
    "    data = pd.DataFrame(bitcoin_price_data, columns=['Timestamp','prices'])\n",
    "    \n",
    "    # converting timestamp to date\n",
    "    data['Date'] = pd.to_datetime(data['Timestamp'], unit = 'ms')\n",
    "    data['Date_only'] = pd.to_datetime(data['Date']).dt.date\n",
    "    # print(data.head())\n",
    "    candlestick(data, coin_inp)"
   ]
  },
  {
   "cell_type": "markdown",
   "metadata": {},
   "source": [
    "Now that we have the DataFrame we will convert the timestamp to datetime and save it as a column called <code>Date</code>. We will map our <code>unix_to_datetime</code> to each timestamp and convert it to a readable datetime.\n"
   ]
  },
  {
   "cell_type": "markdown",
   "metadata": {},
   "source": [
    "Using this modified dataset we can now group by the <code>Date</code> and find the min, max, open, and close for the candlesticks.\n"
   ]
  },
  {
   "cell_type": "code",
   "execution_count": null,
   "metadata": {},
   "outputs": [],
   "source": [
    "def candlestick(data, coin_inp):\n",
    "    candlestick_data = data.groupby('Date_only', as_index=False).agg({\"prices\": ['min', 'max', 'first', 'last']})  # sub col of Price as min, max, first, last --> function_names # In short we have divided pandas col into sub columns ( dataframes )\n",
    "    figure_result = figure(candlestick_data, data)\n",
    "    show_figure(figure_result, coin_inp)\n",
    "    \n",
    "\n",
    "\n",
    "# some testing\n",
    "\n",
    "# candlestick_data['prices'] # --> see, prices col has now its sub columns min, max, first, last\n",
    "# # type(candlestick_data['prices']) # --> dataframe\n",
    "# # candlestick_data.shape\n",
    "# candlestick_data['prices'].shape # --> (31, 4) where 31 are rows and 4 cols i.e (min, max, first, last)\n",
    " \n",
    "# # checking\n",
    "# # candlestick_data['prices'].loc[0:5,'min':'max']\n"
   ]
  },
  {
   "cell_type": "markdown",
   "metadata": {},
   "source": [
    "Finally we are now ready to use plotly to create our Candlestick Chart.\n"
   ]
  },
  {
   "cell_type": "code",
   "execution_count": null,
   "metadata": {},
   "outputs": [],
   "source": [
    "def figure(candlestick_data, data_only):\n",
    "    fig = go.Figure(data=[go.Candlestick(x = candlestick_data['Date_only'],\n",
    "                open=candlestick_data['prices']['first'], \n",
    "                high=candlestick_data['prices']['max'],\n",
    "                low=candlestick_data['prices']['min'], \n",
    "                close=candlestick_data['prices']['last'])\n",
    "                ])\n",
    "    return fig\n",
    "\n",
    "def show_figure(fig, coin_inp):\n",
    "    print(\"\\nThe figure is as follow\")\n",
    "    fig.update_layout(xaxis_rangeslider_visible=False, xaxis_title = 'Date',yaxis_title = 'Price (USD $)',title = f'{coin_inp.capitalize()} Candlestick chart')\n",
    "    fig.show()    \n",
    "    \n"
   ]
  },
  {
   "cell_type": "markdown",
   "metadata": {},
   "source": [
    "## Main function"
   ]
  },
  {
   "cell_type": "code",
   "execution_count": null,
   "metadata": {},
   "outputs": [],
   "source": [
    "def main():\n",
    "    try:\n",
    "        while True:\n",
    "            coin_inp = input(\"Which coin data you want to see ?\").lower()\n",
    "            currency_inp = input(\"Choose currency:\")\n",
    "            days_input = int(input(\"Enter the no of days for price data:\"))\n",
    "            print(\"\\nstarting....\")\n",
    "            break\n",
    "        \n",
    "        if check_requirements():\n",
    "            start(coin_inp, currency_inp, days_input)\n",
    "    except Exception as e:\n",
    "        print(f\"Error:{e}\")\n",
    "    \n",
    "    \n",
    "main()\n",
    "\n",
    "# cg = CoinGeckoAPI()\n",
    "# list = cg.get_coins_list()\n",
    "# list\n"
   ]
  },
  {
   "cell_type": "code",
   "execution_count": null,
   "metadata": {},
   "outputs": [],
   "source": []
  }
 ],
 "metadata": {
  "kernelspec": {
   "display_name": "Python 3 (ipykernel)",
   "language": "python",
   "name": "python3"
  },
  "language_info": {
   "codemirror_mode": {
    "name": "ipython",
    "version": 3
   },
   "file_extension": ".py",
   "mimetype": "text/x-python",
   "name": "python",
   "nbconvert_exporter": "python",
   "pygments_lexer": "ipython3",
   "version": "3.10.9"
  }
 },
 "nbformat": 4,
 "nbformat_minor": 4
}
